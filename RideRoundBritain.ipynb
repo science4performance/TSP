{
 "cells": [
  {
   "cell_type": "markdown",
   "id": "4da31af4",
   "metadata": {},
   "source": [
    "# Ride Round Britain\n",
    "## Bernard's Route\n",
    "https://roundbritainbybike.co.uk/\n"
   ]
  },
  {
   "cell_type": "code",
   "execution_count": 1,
   "id": "63b217bb",
   "metadata": {},
   "outputs": [],
   "source": [
    "from geopy.geocoders import Nominatim\n",
    "import folium\n",
    "import pandas as pd\n",
    "import numpy as np"
   ]
  },
  {
   "cell_type": "code",
   "execution_count": 32,
   "id": "45e610a2",
   "metadata": {},
   "outputs": [
    {
     "data": {
      "text/plain": [
       "0              Putney Bridge\n",
       "1       Boughton-under-Blean\n",
       "2                        Rye\n",
       "3                Bracklesham\n",
       "4                Bournemouth\n",
       "5                    Exmouth\n",
       "6                 Gunnislake\n",
       "7                   Falmouth\n",
       "8                    St Ives\n",
       "9                       Bude\n",
       "10                Ilfracombe\n",
       "11                  Clevedon\n",
       "12                     Barry\n",
       "13                  Gowerton\n",
       "14                  Johnston\n",
       "15                 Aberaeron\n",
       "16                  Pwllheli\n",
       "17                  Holyhead\n",
       "18               Penrhyn Bay\n",
       "19                 Southport\n",
       "20                 Morecambe\n",
       "21                  Holmrook\n",
       "22                  Dumfries\n",
       "23                  Monreith\n",
       "24                Ballantrae\n",
       "25                    Dunoon\n",
       "26                      Oban\n",
       "27                    Malaig\n",
       "28                       Uig\n",
       "29                 shieldaig\n",
       "30                  Ullapool\n",
       "31                   Kylesku\n",
       "32                  Keoldale\n",
       "33                    Tongue\n",
       "34                      Wick\n",
       "35               Invergordon\n",
       "36               Lossiemouth\n",
       "37                  Aberdeen\n",
       "38                St Andrews\n",
       "39             North Berwick\n",
       "40                   Alnwick\n",
       "41                    Redcar\n",
       "42                Withernsea\n",
       "43        Chapel st Leonards\n",
       "44     Burnham Overy Staithe\n",
       "45                 Southwold\n",
       "46            Clacton-on-Sea\n",
       "47                   Tilbury\n",
       "48              Queen Square\n",
       "Name: Route, dtype: object"
      ]
     },
     "execution_count": 32,
     "metadata": {},
     "output_type": "execute_result"
    }
   ],
   "source": [
    "fn = 'the-route.xlsx'\n",
    "df = pd.read_excel(fn)\n",
    "df.Route"
   ]
  },
  {
   "cell_type": "code",
   "execution_count": null,
   "id": "2e6f29c5",
   "metadata": {},
   "outputs": [],
   "source": []
  },
  {
   "cell_type": "code",
   "execution_count": null,
   "id": "7978e1ed",
   "metadata": {},
   "outputs": [],
   "source": []
  },
  {
   "cell_type": "code",
   "execution_count": 33,
   "id": "e52b3007",
   "metadata": {},
   "outputs": [],
   "source": [
    "# List of towns in the UK\n",
    "towns = df.Route.values\n",
    "\n",
    "# Initialize geolocator\n",
    "geolocator = Nominatim(user_agent=\"uk_towns_locator\")\n",
    "\n",
    "# Dictionary to store town coordinates\n",
    "town_coordinates = {}\n",
    "\n",
    "# Get latitude and longitude for each town\n",
    "for town in towns:\n",
    "    location = geolocator.geocode(town + \", UK\")\n",
    "    if location:\n",
    "        town_coordinates[town] = (location.latitude, location.longitude)\n",
    "    else:\n",
    "        print(f\"Could not find location for {town}\")"
   ]
  },
  {
   "cell_type": "code",
   "execution_count": 45,
   "id": "2f00a320",
   "metadata": {
    "scrolled": false
   },
   "outputs": [
    {
     "name": "stdout",
     "output_type": "stream",
     "text": [
      "Map has been saved as 'uk_towns_map.html'. Open it in a browser to view.\n"
     ]
    }
   ],
   "source": [
    "# Create a map centered around the UK\n",
    "uk_map = folium.Map(location=[54.0, -2.0], zoom_start=6)\n",
    "\n",
    "# Add markers for each town\n",
    "for town, coords in town_coordinates.items():\n",
    "    folium.Marker(location=coords, popup=town).add_to(uk_map)\n",
    "\n",
    "\n",
    "folium.PolyLine(list(town_coordinates.values())+[(51.4682995, -0.2087947)],\n",
    "                color='red',\n",
    "                weight=15,\n",
    "                opacity=0.8).add_to(uk_map)\n",
    "\n",
    "# Save the map to an HTML file\n",
    "uk_map.save(\"RideRoundBritain_map.html\")\n",
    "\n",
    "print(\"Map has been saved as 'uk_towns_map.html'. Open it in a browser to view.\")"
   ]
  },
  {
   "cell_type": "code",
   "execution_count": 44,
   "id": "f3d2e27d",
   "metadata": {},
   "outputs": [
    {
     "data": {
      "text/plain": [
       "[(51.4682995, -0.2087947),\n",
       " (51.2898764, 0.9396638),\n",
       " (50.9511871, 0.7327667),\n",
       " (50.7623646, -0.8588272),\n",
       " (50.7201514, -1.8799118),\n",
       " (50.6190962, -3.4146801),\n",
       " (50.5238826, -4.2161922),\n",
       " (50.1552197, -5.0688262),\n",
       " (50.2149064, -5.4795083),\n",
       " (50.8285252, -4.5469361),\n",
       " (51.2076674, -4.1254662),\n",
       " (51.4360625, -2.8526531),\n",
       " (51.4065052, -3.2666925),\n",
       " (51.6489264, -4.0356664),\n",
       " (51.755408, -4.9970891),\n",
       " (52.2431766, -4.2600153),\n",
       " (52.8879082, -4.4187565),\n",
       " (53.3106715, -4.6330966),\n",
       " (53.3178035, -3.7764476),\n",
       " (53.6475988, -3.0041751),\n",
       " (54.0721085, -2.8650938),\n",
       " (54.3835656, -3.4233817),\n",
       " (55.0691397, -3.6107936),\n",
       " (54.7372224, -4.5484106),\n",
       " (55.1014603, -5.0044737),\n",
       " (55.9481104, -4.9244868),\n",
       " (56.4120166, -5.4723731),\n",
       " (57.0061325, -5.8294488),\n",
       " (57.4757994, -6.680158),\n",
       " (57.5234507, -5.6495898),\n",
       " (57.8978237, -5.1586647),\n",
       " (58.2563273, -5.019108),\n",
       " (58.553833, -4.7841567),\n",
       " (58.4795782, -4.4173192),\n",
       " (58.4425516, -3.0915827),\n",
       " (57.6884029, -4.1692103),\n",
       " (57.7220766, -3.2814625),\n",
       " (57.1482429, -2.0928095),\n",
       " (56.3403902, -2.7955844),\n",
       " (56.0581178, -2.7209129),\n",
       " (55.4133398, -1.7072354),\n",
       " (54.6179021, -1.0687914),\n",
       " (53.7309927, 0.0271753),\n",
       " (53.2285575, 0.3310343),\n",
       " (52.9642128, 0.7439615),\n",
       " (52.3260841, 1.6793095),\n",
       " (51.7883997, 1.1527865),\n",
       " (51.4631174, 0.3643896),\n",
       " (51.5222469, -0.1230724),\n",
       " (51.4682995, -0.2087947)]"
      ]
     },
     "execution_count": 44,
     "metadata": {},
     "output_type": "execute_result"
    }
   ],
   "source": [
    "list(town_coordinates.values())+[(51.4682995, -0.2087947)]"
   ]
  },
  {
   "cell_type": "code",
   "execution_count": 37,
   "id": "127fa508",
   "metadata": {},
   "outputs": [],
   "source": [
    "df[['latitude','longitude']] = list(town_coordinates.values())"
   ]
  },
  {
   "cell_type": "code",
   "execution_count": 38,
   "id": "0cbe1ef1",
   "metadata": {},
   "outputs": [],
   "source": [
    "df.to_pickle('RideRoundBritain.pkl')"
   ]
  },
  {
   "cell_type": "markdown",
   "id": "1c0530f0",
   "metadata": {},
   "source": [
    "# Salesman route"
   ]
  },
  {
   "cell_type": "code",
   "execution_count": 1,
   "id": "6a64c8de",
   "metadata": {},
   "outputs": [],
   "source": [
    "import pandas as pd\n",
    "df = pd.read_pickle('RideRoundBritain.pkl')"
   ]
  },
  {
   "cell_type": "code",
   "execution_count": 2,
   "id": "da757cf9",
   "metadata": {},
   "outputs": [],
   "source": [
    "from TravellingSalesman import salesman, plot_route, find_initial_route, tweak_route"
   ]
  },
  {
   "cell_type": "code",
   "execution_count": 3,
   "id": "c2f05535",
   "metadata": {},
   "outputs": [],
   "source": [
    "points = df[['longitude','latitude']].values\n",
    "#route = salesman(points)"
   ]
  },
  {
   "cell_type": "code",
   "execution_count": 4,
   "id": "68a2569b",
   "metadata": {},
   "outputs": [
    {
     "ename": "TypeError",
     "evalue": "strptime() argument 1 must be str, not <class 'time.struct_time'>",
     "output_type": "error",
     "traceback": [
      "\u001b[0;31m---------------------------------------------------------------------------\u001b[0m",
      "\u001b[0;31mTypeError\u001b[0m                                 Traceback (most recent call last)",
      "Cell \u001b[0;32mIn[4], line 1\u001b[0m\n\u001b[0;32m----> 1\u001b[0m \u001b[43mplot_route\u001b[49m\u001b[43m(\u001b[49m\u001b[43mpoints\u001b[49m\u001b[43m,\u001b[49m\u001b[38;5;28;43mrange\u001b[39;49m\u001b[43m(\u001b[49m\u001b[38;5;241;43m49\u001b[39;49m\u001b[43m)\u001b[49m\u001b[43m)\u001b[49m\n",
      "File \u001b[0;32m~/Gavin/Jupyter/Games/Maps/TravellingSalesman.py:59\u001b[0m, in \u001b[0;36mplot_route\u001b[0;34m(points, route, building)\u001b[0m\n\u001b[1;32m     57\u001b[0m plt\u001b[38;5;241m.\u001b[39mxlim(\u001b[38;5;241m-\u001b[39m\u001b[38;5;241m12\u001b[39m,\u001b[38;5;241m4\u001b[39m)\n\u001b[1;32m     58\u001b[0m plt\u001b[38;5;241m.\u001b[39maxis(\u001b[38;5;124m'\u001b[39m\u001b[38;5;124moff\u001b[39m\u001b[38;5;124m'\u001b[39m)\n\u001b[0;32m---> 59\u001b[0m plt\u001b[38;5;241m.\u001b[39msavefig(\u001b[38;5;124mf\u001b[39m\u001b[38;5;124m'\u001b[39m\u001b[38;5;124mims/\u001b[39m\u001b[38;5;132;01m{\u001b[39;00mtime\u001b[38;5;241m.\u001b[39mstrptime(\u001b[38;5;124m\"\u001b[39m\u001b[38;5;124m%\u001b[39m\u001b[38;5;124mY-\u001b[39m\u001b[38;5;124m%\u001b[39m\u001b[38;5;124mm-\u001b[39m\u001b[38;5;132;01m%d\u001b[39;00m\u001b[38;5;124m \u001b[39m\u001b[38;5;124m%\u001b[39m\u001b[38;5;124mH:\u001b[39m\u001b[38;5;124m%\u001b[39m\u001b[38;5;124mM:\u001b[39m\u001b[38;5;124m%\u001b[39m\u001b[38;5;124mS.\u001b[39m\u001b[38;5;132;01m%f\u001b[39;00m\u001b[38;5;124m\"\u001b[39m,\u001b[38;5;250m \u001b[39mtime\u001b[38;5;241m.\u001b[39mgmtime())\u001b[38;5;132;01m}\u001b[39;00m\u001b[38;5;124m.png\u001b[39m\u001b[38;5;124m'\u001b[39m)\n\u001b[1;32m     61\u001b[0m plt\u001b[38;5;241m.\u001b[39mshow()\n",
      "File \u001b[0;32m~/miniconda3/lib/python3.10/_strptime.py:562\u001b[0m, in \u001b[0;36m_strptime_time\u001b[0;34m(data_string, format)\u001b[0m\n\u001b[1;32m    559\u001b[0m \u001b[38;5;28;01mdef\u001b[39;00m \u001b[38;5;21m_strptime_time\u001b[39m(data_string, \u001b[38;5;28mformat\u001b[39m\u001b[38;5;241m=\u001b[39m\u001b[38;5;124m\"\u001b[39m\u001b[38;5;132;01m%a\u001b[39;00m\u001b[38;5;124m \u001b[39m\u001b[38;5;124m%\u001b[39m\u001b[38;5;124mb \u001b[39m\u001b[38;5;132;01m%d\u001b[39;00m\u001b[38;5;124m \u001b[39m\u001b[38;5;124m%\u001b[39m\u001b[38;5;124mH:\u001b[39m\u001b[38;5;124m%\u001b[39m\u001b[38;5;124mM:\u001b[39m\u001b[38;5;124m%\u001b[39m\u001b[38;5;124mS \u001b[39m\u001b[38;5;124m%\u001b[39m\u001b[38;5;124mY\u001b[39m\u001b[38;5;124m\"\u001b[39m):\n\u001b[1;32m    560\u001b[0m \u001b[38;5;250m    \u001b[39m\u001b[38;5;124;03m\"\"\"Return a time struct based on the input string and the\u001b[39;00m\n\u001b[1;32m    561\u001b[0m \u001b[38;5;124;03m    format string.\"\"\"\u001b[39;00m\n\u001b[0;32m--> 562\u001b[0m     tt \u001b[38;5;241m=\u001b[39m \u001b[43m_strptime\u001b[49m\u001b[43m(\u001b[49m\u001b[43mdata_string\u001b[49m\u001b[43m,\u001b[49m\u001b[43m \u001b[49m\u001b[38;5;28;43mformat\u001b[39;49m\u001b[43m)\u001b[49m[\u001b[38;5;241m0\u001b[39m]\n\u001b[1;32m    563\u001b[0m     \u001b[38;5;28;01mreturn\u001b[39;00m time\u001b[38;5;241m.\u001b[39mstruct_time(tt[:time\u001b[38;5;241m.\u001b[39m_STRUCT_TM_ITEMS])\n",
      "File \u001b[0;32m~/miniconda3/lib/python3.10/_strptime.py:317\u001b[0m, in \u001b[0;36m_strptime\u001b[0;34m(data_string, format)\u001b[0m\n\u001b[1;32m    315\u001b[0m     \u001b[38;5;28;01mif\u001b[39;00m \u001b[38;5;129;01mnot\u001b[39;00m \u001b[38;5;28misinstance\u001b[39m(arg, \u001b[38;5;28mstr\u001b[39m):\n\u001b[1;32m    316\u001b[0m         msg \u001b[38;5;241m=\u001b[39m \u001b[38;5;124m\"\u001b[39m\u001b[38;5;124mstrptime() argument \u001b[39m\u001b[38;5;132;01m{}\u001b[39;00m\u001b[38;5;124m must be str, not \u001b[39m\u001b[38;5;132;01m{}\u001b[39;00m\u001b[38;5;124m\"\u001b[39m\n\u001b[0;32m--> 317\u001b[0m         \u001b[38;5;28;01mraise\u001b[39;00m \u001b[38;5;167;01mTypeError\u001b[39;00m(msg\u001b[38;5;241m.\u001b[39mformat(index, \u001b[38;5;28mtype\u001b[39m(arg)))\n\u001b[1;32m    319\u001b[0m \u001b[38;5;28;01mglobal\u001b[39;00m _TimeRE_cache, _regex_cache\n\u001b[1;32m    320\u001b[0m \u001b[38;5;28;01mwith\u001b[39;00m _cache_lock:\n",
      "\u001b[0;31mTypeError\u001b[0m: strptime() argument 1 must be str, not <class 'time.struct_time'>"
     ]
    },
    {
     "data": {
      "image/png": "[encoded data removed]",
      "text/plain": [
       "<Figure size 640x480 with 1 Axes>"
      ]
     },
     "metadata": {},
     "output_type": "display_data"
    }
   ],
   "source": [
    "\n",
    "plot_route(points,range(49))"
   ]
  },
  {
   "cell_type": "code",
   "execution_count": 18,
   "id": "a4224e42",
   "metadata": {},
   "outputs": [
    {
     "data": {
      "text/plain": [
       "array([ 1, 46, 45, 44, 43, 42, 41, 40, 39, 38, 37, 34, 36, 35, 33, 32, 31,\n",
       "       30, 29, 28, 27, 26, 25, 24, 23, 22, 21, 20, 17, 19, 18, 16, 15, 13,\n",
       "       10, 14,  8,  7,  9,  6,  5, 12, 11,  4,  3,  0, 48, 47,  2],\n",
       "      dtype=int32)"
      ]
     },
     "execution_count": 18,
     "metadata": {},
     "output_type": "execute_result"
    }
   ],
   "source": [
    "route"
   ]
  },
  {
   "cell_type": "code",
   "execution_count": 12,
   "id": "704b6b7b",
   "metadata": {},
   "outputs": [
    {
     "data": {
      "image/png": "[encoded data removed]",
      "text/plain": [
       "<Figure size 640x480 with 1 Axes>"
      ]
     },
     "metadata": {},
     "output_type": "display_data"
    }
   ],
   "source": [
    "route = find_initial_route(points)"
   ]
  },
  {
   "cell_type": "code",
   "execution_count": 13,
   "id": "4b387e5c",
   "metadata": {},
   "outputs": [
    {
     "data": {
      "image/png": "[encoded data removed]",
      "text/plain": [
       "<Figure size 640x480 with 1 Axes>"
      ]
     },
     "metadata": {},
     "output_type": "display_data"
    },
    {
     "name": "stdout",
     "output_type": "stream",
     "text": [
      "Improvements from tweaking initial route: ['37.22', '37.10']\n"
     ]
    }
   ],
   "source": [
    "route = tweak_route(route,points)"
   ]
  },
  {
   "cell_type": "code",
   "execution_count": 17,
   "id": "bbe58341",
   "metadata": {},
   "outputs": [],
   "source": [
    "import glob\n",
    "import imageio"
   ]
  },
  {
   "cell_type": "code",
   "execution_count": 26,
   "id": "810dfc36",
   "metadata": {},
   "outputs": [
    {
     "data": {
      "text/plain": [
       "['ims/1747573065113924.png',\n",
       " 'ims/1747573066814753.png',\n",
       " 'ims/1747573065678071.png',\n",
       " 'ims/1747573068675637.png',\n",
       " 'ims/1747573076895025.png',\n",
       " 'ims/1747573063140824.png',\n",
       " 'ims/1747573064243117.png',\n",
       " 'ims/1747573072502218.png',\n",
       " 'ims/1747573070207540.png',\n",
       " 'ims/1747573063708225.png',\n",
       " 'ims/1747573063551204.png',\n",
       " 'ims/1747573073022925.png',\n",
       " 'ims/1747573067095592.png',\n",
       " 'ims/1747573071073323.png',\n",
       " 'ims/1747573071998098.png',\n",
       " 'ims/1747573068353316.png',\n",
       " 'ims/1747573067384383.png',\n",
       " 'ims/1747573064636731.png',\n",
       " 'ims/1747573075754187.png',\n",
       " 'ims/1747573074646888.png',\n",
       " 'ims/1747573074101967.png',\n",
       " 'ims/1747573064875941.png',\n",
       " 'ims/1747573075198483.png',\n",
       " 'ims/1747573069787939.png',\n",
       " 'ims/1747573066240545.png',\n",
       " 'ims/1747573066529184.png',\n",
       " 'ims/1747573064060731.png',\n",
       " 'ims/1747573065962313.png',\n",
       " 'ims/1747573073561039.png',\n",
       " 'ims/1747573071511775.png',\n",
       " 'ims/1747573068998863.png',\n",
       " 'ims/1747573077490585.png',\n",
       " 'ims/1747573067690627.png',\n",
       " 'ims/1747573067991518.png',\n",
       " 'ims/1747573063397846.png',\n",
       " 'ims/1747573076314327.png',\n",
       " 'ims/1747573063268857.png',\n",
       " 'ims/1747573064431909.png',\n",
       " 'ims/1747573063893616.png',\n",
       " 'ims/1747573069390756.png',\n",
       " 'ims/1747573070634360.png',\n",
       " 'ims/1747573065397529.png']"
      ]
     },
     "execution_count": 26,
     "metadata": {},
     "output_type": "execute_result"
    }
   ],
   "source": [
    "filenames = glob.glob(\"ims/*.png\")\n",
    "filenames"
   ]
  },
  {
   "cell_type": "code",
   "execution_count": 27,
   "id": "46a3f4b2",
   "metadata": {},
   "outputs": [
    {
     "name": "stderr",
     "output_type": "stream",
     "text": [
      "/var/folders/23/z1fjvm2x35b5rgrj3knpwffc0000gn/T/ipykernel_69536/2061624365.py:3: DeprecationWarning: Starting with ImageIO v3 the behavior of this function will switch to that of iio.v3.imread. To keep the current behavior (and make this warning disappear) use `import imageio.v2 as imageio` or call `imageio.v2.imread` directly.\n",
      "  images.append(imageio.imread(filename))\n"
     ]
    }
   ],
   "source": [
    "images = []\n",
    "for filename in filenames:\n",
    "    images.append(imageio.imread(filename))\n",
    "imageio.mimsave('ims/movie.gif', images)"
   ]
  },
  {
   "cell_type": "code",
   "execution_count": 25,
   "id": "01ba19b5",
   "metadata": {},
   "outputs": [
    {
     "data": {
      "text/plain": [
       "328"
      ]
     },
     "execution_count": 25,
     "metadata": {},
     "output_type": "execute_result"
    }
   ],
   "source": [
    "len(images)"
   ]
  },
  {
   "cell_type": "code",
   "execution_count": 6,
   "id": "a91b9de8",
   "metadata": {},
   "outputs": [],
   "source": [
    "import time"
   ]
  },
  {
   "cell_type": "code",
   "execution_count": 13,
   "id": "302d3474",
   "metadata": {},
   "outputs": [
    {
     "data": {
      "text/plain": [
       "'517468'"
      ]
     },
     "execution_count": 13,
     "metadata": {},
     "output_type": "execute_result"
    }
   ],
   "source": [
    "f'{int(time.time() % 1 * 1e6):06d}'"
   ]
  },
  {
   "cell_type": "code",
   "execution_count": 22,
   "id": "32e9cc9d",
   "metadata": {},
   "outputs": [
    {
     "ename": "AttributeError",
     "evalue": "module 'ffmpeg' has no attribute 'input'",
     "output_type": "error",
     "traceback": [
      "\u001b[0;31m---------------------------------------------------------------------------\u001b[0m",
      "\u001b[0;31mAttributeError\u001b[0m                            Traceback (most recent call last)",
      "Cell \u001b[0;32mIn[22], line 4\u001b[0m\n\u001b[1;32m      1\u001b[0m \u001b[38;5;28;01mimport\u001b[39;00m \u001b[38;5;21;01mffmpeg\u001b[39;00m\n\u001b[1;32m      2\u001b[0m (\n\u001b[1;32m      3\u001b[0m     \u001b[43mffmpeg\u001b[49m\n\u001b[0;32m----> 4\u001b[0m \u001b[43m    \u001b[49m\u001b[38;5;241;43m.\u001b[39;49m\u001b[43minput\u001b[49m(\u001b[38;5;124m'\u001b[39m\u001b[38;5;124mims/*.png\u001b[39m\u001b[38;5;124m'\u001b[39m, pattern_type\u001b[38;5;241m=\u001b[39m\u001b[38;5;124m'\u001b[39m\u001b[38;5;124mglob\u001b[39m\u001b[38;5;124m'\u001b[39m, framerate\u001b[38;5;241m=\u001b[39m\u001b[38;5;241m25\u001b[39m)\n\u001b[1;32m      5\u001b[0m     \u001b[38;5;241m.\u001b[39moutput(\u001b[38;5;124m'\u001b[39m\u001b[38;5;124mims/movie.mp4\u001b[39m\u001b[38;5;124m'\u001b[39m)\n\u001b[1;32m      6\u001b[0m     \u001b[38;5;241m.\u001b[39mrun()\n\u001b[1;32m      7\u001b[0m )\n",
      "\u001b[0;31mAttributeError\u001b[0m: module 'ffmpeg' has no attribute 'input'"
     ]
    }
   ],
   "source": []
  },
  {
   "cell_type": "code",
   "execution_count": 24,
   "id": "6acbb19a",
   "metadata": {},
   "outputs": [],
   "source": [
    "import cv2\n",
    "import os\n",
    "\n",
    "image_folder = 'ims/'\n",
    "video_name = 'ims/video.avi'\n",
    "\n",
    "images = [img for img in os.listdir(image_folder) if img.endswith(\".png\")]\n",
    "frame = cv2.imread(os.path.join(image_folder, images[0]))\n",
    "height, width, layers = frame.shape\n",
    "\n",
    "video = cv2.VideoWriter(video_name, 0, 1, (width,height))\n",
    "\n",
    "for image in images:\n",
    "    video.write(cv2.imread(os.path.join(image_folder, image)))\n",
    "\n",
    "cv2.destroyAllWindows()\n",
    "video.release()\n"
   ]
  },
  {
   "cell_type": "code",
   "execution_count": null,
   "id": "afa78be3",
   "metadata": {},
   "outputs": [],
   "source": []
  }
 ],
 "metadata": {
  "kernelspec": {
   "display_name": "base",
   "language": "python",
   "name": "base"
  },
  "language_info": {
   "codemirror_mode": {
    "name": "ipython",
    "version": 3
   },
   "file_extension": ".py",
   "mimetype": "text/x-python",
   "name": "python",
   "nbconvert_exporter": "python",
   "pygments_lexer": "ipython3",
   "version": "3.10.17"
  },
  "toc": {
   "nav_menu": {},
   "number_sections": true,
   "sideBar": true,
   "skip_h1_title": false,
   "title_cell": "Table of Contents",
   "title_sidebar": "Contents",
   "toc_cell": false,
   "toc_position": {},
   "toc_section_display": true,
   "toc_window_display": false
  }
 },
 "nbformat": 4,
 "nbformat_minor": 5
}
